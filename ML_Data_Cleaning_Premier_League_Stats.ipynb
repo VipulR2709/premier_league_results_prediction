{
  "nbformat": 4,
  "nbformat_minor": 0,
  "metadata": {
    "colab": {
      "provenance": [],
      "authorship_tag": "ABX9TyNihoPOWgQRAGpucE8npxqo",
      "include_colab_link": true
    },
    "kernelspec": {
      "name": "python3",
      "display_name": "Python 3"
    },
    "language_info": {
      "name": "python"
    }
  },
  "cells": [
    {
      "cell_type": "markdown",
      "metadata": {
        "id": "view-in-github",
        "colab_type": "text"
      },
      "source": [
        "<a href=\"https://colab.research.google.com/github/VipulR2709/premier_league_results_prediction/blob/main/ML_Data_Cleaning_Premier_League_Stats.ipynb\" target=\"_parent\"><img src=\"https://colab.research.google.com/assets/colab-badge.svg\" alt=\"Open In Colab\"/></a>"
      ]
    },
    {
      "cell_type": "markdown",
      "source": [
        "Importing required libraries"
      ],
      "metadata": {
        "id": "RVjkuIxY4L-V"
      }
    },
    {
      "cell_type": "code",
      "execution_count": 1,
      "metadata": {
        "id": "b5-nlLYU1lOb"
      },
      "outputs": [],
      "source": [
        "import numpy as np\n",
        "import pandas as pd\n",
        "import seaborn as sns\n",
        "import matplotlib.pylab as plt\n",
        "from matplotlib import pyplot"
      ]
    },
    {
      "cell_type": "code",
      "source": [
        "epl_data = pd.read_csv(\"https://raw.githubusercontent.com/VipulR2709/premier_league_results_prediction/main/df_full_premierleague.csv\")"
      ],
      "metadata": {
        "id": "y6AfT7714S4-"
      },
      "execution_count": 2,
      "outputs": []
    },
    {
      "cell_type": "code",
      "source": [
        "epl_data.info(verbose=True)"
      ],
      "metadata": {
        "colab": {
          "base_uri": "https://localhost:8080/"
        },
        "id": "_QPKw-8K5ck6",
        "outputId": "247a390b-75d2-4812-802c-d02478d85f2d"
      },
      "execution_count": 10,
      "outputs": [
        {
          "output_type": "stream",
          "name": "stdout",
          "text": [
            "<class 'pandas.core.frame.DataFrame'>\n",
            "RangeIndex: 4070 entries, 0 to 4069\n",
            "Data columns (total 114 columns):\n",
            " #    Column                    Dtype  \n",
            "---   ------                    -----  \n",
            " 0    Unnamed: 0                int64  \n",
            " 1    link_match                object \n",
            " 2    season                    object \n",
            " 3    date                      object \n",
            " 4    home_team                 object \n",
            " 5    away_team                 object \n",
            " 6    result_full               object \n",
            " 7    result_ht                 object \n",
            " 8    home_clearances           float64\n",
            " 9    home_corners              float64\n",
            " 10   home_fouls_conceded       float64\n",
            " 11   home_offsides             float64\n",
            " 12   home_passes               float64\n",
            " 13   home_possession           float64\n",
            " 14   home_red_cards            float64\n",
            " 15   home_shots                float64\n",
            " 16   home_shots_on_target      float64\n",
            " 17   home_tackles              float64\n",
            " 18   home_touches              float64\n",
            " 19   home_yellow_cards         float64\n",
            " 20   away_clearances           float64\n",
            " 21   away_corners              float64\n",
            " 22   away_fouls_conceded       float64\n",
            " 23   away_offsides             float64\n",
            " 24   away_passes               float64\n",
            " 25   away_possession           float64\n",
            " 26   away_red_cards            float64\n",
            " 27   away_shots                float64\n",
            " 28   away_shots_on_target      float64\n",
            " 29   away_tackles              float64\n",
            " 30   away_touches              float64\n",
            " 31   away_yellow_cards         float64\n",
            " 32   goal_home_ft              int64  \n",
            " 33   goal_away_ft              int64  \n",
            " 34   sg_match_ft               int64  \n",
            " 35   goal_home_ht              int64  \n",
            " 36   goal_away_ht              int64  \n",
            " 37   sg_match_ht               int64  \n",
            " 38   clearances_avg_H          float64\n",
            " 39   corners_avg_H             float64\n",
            " 40   fouls_conceded_avg_H      float64\n",
            " 41   offsides_avg_H            float64\n",
            " 42   passes_avg_H              float64\n",
            " 43   possession_avg_H          float64\n",
            " 44   red_cards_avg_H           float64\n",
            " 45   shots_avg_H               float64\n",
            " 46   shots_on_target_avg_H     float64\n",
            " 47   tackles_avg_H             float64\n",
            " 48   touches_avg_H             float64\n",
            " 49   yellow_cards_avg_H        float64\n",
            " 50   goals_scored_ft_avg_H     float64\n",
            " 51   goals_conced_ft_avg_H     float64\n",
            " 52   sg_match_ft_acum_H        float64\n",
            " 53   goals_scored_ht_avg_H     float64\n",
            " 54   goals_conced_ht_avg_H     float64\n",
            " 55   sg_match_ht_acum_H        float64\n",
            " 56   performance_acum_H        float64\n",
            " 57   clearances_avg_A          float64\n",
            " 58   corners_avg_A             float64\n",
            " 59   fouls_conceded_avg_A      float64\n",
            " 60   offsides_avg_A            float64\n",
            " 61   passes_avg_A              float64\n",
            " 62   possession_avg_A          float64\n",
            " 63   red_cards_avg_A           float64\n",
            " 64   shots_avg_A               float64\n",
            " 65   shots_on_target_avg_A     float64\n",
            " 66   tackles_avg_A             float64\n",
            " 67   touches_avg_A             float64\n",
            " 68   yellow_cards_avg_A        float64\n",
            " 69   goals_scored_ft_avg_A     float64\n",
            " 70   goals_conced_ft_avg_A     float64\n",
            " 71   sg_match_ft_acum_A        float64\n",
            " 72   goals_scored_ht_avg_A     float64\n",
            " 73   goals_conced_ht_avg_A     float64\n",
            " 74   sg_match_ht_acum_A        float64\n",
            " 75   performance_acum_A        float64\n",
            " 76   clearances_avg_home       float64\n",
            " 77   corners_avg_home          float64\n",
            " 78   fouls_conceded_avg_home   float64\n",
            " 79   offsides_avg_home         float64\n",
            " 80   passes_avg_home           float64\n",
            " 81   possession_avg_home       float64\n",
            " 82   red_cards_avg_home        float64\n",
            " 83   shots_avg_home            float64\n",
            " 84   shots_on_target_avg_home  float64\n",
            " 85   tackles_avg_home          float64\n",
            " 86   touches_avg_home          float64\n",
            " 87   yellow_cards_avg_home     float64\n",
            " 88   goals_scored_ft_avg_home  float64\n",
            " 89   goals_conced_ft_avg_home  float64\n",
            " 90   sg_match_ft_acum_home     float64\n",
            " 91   goals_scored_ht_avg_home  float64\n",
            " 92   goals_conced_ht_avg_home  float64\n",
            " 93   sg_match_ht_acum_home     float64\n",
            " 94   performance_acum_home     float64\n",
            " 95   clearances_avg_away       float64\n",
            " 96   corners_avg_away          float64\n",
            " 97   fouls_conceded_avg_away   float64\n",
            " 98   offsides_avg_away         float64\n",
            " 99   passes_avg_away           float64\n",
            " 100  possession_avg_away       float64\n",
            " 101  red_cards_avg_away        float64\n",
            " 102  shots_avg_away            float64\n",
            " 103  shots_on_target_avg_away  float64\n",
            " 104  tackles_avg_away          float64\n",
            " 105  touches_avg_away          float64\n",
            " 106  yellow_cards_avg_away     float64\n",
            " 107  goals_scored_ft_avg_away  float64\n",
            " 108  goals_conced_ft_avg_away  float64\n",
            " 109  sg_match_ft_acum_away     float64\n",
            " 110  goals_scored_ht_avg_away  float64\n",
            " 111  goals_conced_ht_avg_away  float64\n",
            " 112  sg_match_ht_acum_away     float64\n",
            " 113  performance_acum_away     float64\n",
            "dtypes: float64(100), int64(7), object(7)\n",
            "memory usage: 3.5+ MB\n"
          ]
        }
      ]
    },
    {
      "cell_type": "code",
      "source": [],
      "metadata": {
        "id": "AihTekSj5etY"
      },
      "execution_count": null,
      "outputs": []
    }
  ]
}